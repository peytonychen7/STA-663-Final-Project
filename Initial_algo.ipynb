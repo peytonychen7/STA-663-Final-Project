{
 "cells": [
  {
   "cell_type": "markdown",
   "metadata": {},
   "source": [
    "## Initial algorithim with description"
   ]
  },
  {
   "cell_type": "markdown",
   "metadata": {},
   "source": [
    "### Indian Buffett Process Steps"
   ]
  },
  {
   "cell_type": "markdown",
   "metadata": {},
   "source": [
    "1. Initial customer takes the first Poisson($\\alpha$) dishes  \n",
    "2. The following ith customers:  \n",
    "a. Take dishes that have previously been taken with probability of $\\frac{m_k}{i}$ where $m_k$ is the number of customers who           have tried the dish  \n",
    "b. Try Poisson($\\alpha$/i) number of new dishes"
   ]
  },
  {
   "cell_type": "code",
   "execution_count": 45,
   "metadata": {},
   "outputs": [],
   "source": [
    "import numpy as np\n",
    "import scipy.stats as stats\n",
    "import math"
   ]
  },
  {
   "cell_type": "code",
   "execution_count": 16,
   "metadata": {},
   "outputs": [],
   "source": [
    "def IBP(alpha,N):\n",
    "    \"\"\" Indian Buffett Process\"\"\"\n",
    "    k = alpha * N * 10\n",
    "    Z = np.zeros((N,k))\n",
    "    \n",
    "    #initial customer\n",
    "    d = np.random.poisson(alpha)\n",
    "    Z[0,0:d] = 1\n",
    "\n",
    "    k_new = d\n",
    "    #Rest of the customers\n",
    "    for i in range(1,N):\n",
    "        for j in range(k_new):\n",
    "            probability = np.sum(Z[0:i,j])/(i + 1)\n",
    "            if probability > np.random.random():\n",
    "                Z[i,j] = 1\n",
    "        d = np.random.poisson(alpha/(i + 1))\n",
    "        Z[i,k_new:k_new + d] = 1\n",
    "        k_new += d\n",
    "        \n",
    "    return Z[:,0:k_new]\n",
    "        \n",
    "            "
   ]
  },
  {
   "cell_type": "code",
   "execution_count": 38,
   "metadata": {},
   "outputs": [],
   "source": [
    "def log_likelyhood(N,D,K,sigma_X,sigma_A,Z):\n",
    "    M = Z.T @ Z + (sigma_X**2/sigma_A**2)*np.eye(K)\n",
    "    part1 = N*D/2 * np.log(2*np.pi) + (N - K)*D*np.log(sigma_X) + K*D*np.log(sigma_A)+D/2*np.log(np.linalg.det(M))\n",
    "    part2_inside = np.eye(N) - (Z @ np.linalg.inv(M) @ Z.T)\n",
    "    part2 = -1/(2 * sigma_X**2) * np.trace(X.T @ part2_inside @ X)\n",
    "    return part2 - part1"
   ]
  },
  {
   "cell_type": "code",
   "execution_count": 63,
   "metadata": {},
   "outputs": [],
   "source": [
    "def sampler(X,alpha,niter,epsilon,sigma_X,sigma_A,alpha_a_prior,alpha_b_prior,max_new):\n",
    "    N = X.shape[0]\n",
    "    D = X.shape[1]\n",
    "    Z = IBP(alpha,N) # set inital Z\n",
    "    K = Z.shape[1]\n",
    "    K_values = np.zeros(niter)\n",
    "    alpha_values = np.zeros(niter)\n",
    "    Sigma_X_values = np.zeros(niter)\n",
    "    Sigma_A_values = np.zeros(niter)\n",
    "    HN = 0\n",
    "    for i in range(1,N+1):\n",
    "        HN += 1.0/i\n",
    "    for runs in range(niter):\n",
    "        for i in range(N):\n",
    "            for j in range(K):\n",
    "                #Sample Z given conditionals\n",
    "                \n",
    "                col_k_count = sum(Z[:,j]) - Z[i,j] #p(zik|z-ik) = 0 so we set to 0\n",
    "                if col_k_count == 0:\n",
    "                    Z[i,j] = 0\n",
    "                    \n",
    "                else:\n",
    "                    Z[i,j] = 0\n",
    "                    Z0_p = log_likelyhood(N,D,K,sigma_X,sigma_A,Z) + np.log(N - col_k_count)\n",
    "                    Z[i,j] = 1\n",
    "                    Z1_p = log_likelyhood(N,D,K,sigma_X,sigma_A,Z) + np.log(col_k_count)\n",
    "                    L = Z1_p - Z0_p\n",
    "                    p = np.exp(L)/(1 + np.exp(L))\n",
    "                    if p > np.random.random():\n",
    "                        Z[i,j] = 1\n",
    "                    else:\n",
    "                        Z[i,j] = 0\n",
    "            #Sample to see if new columns get added\n",
    "            log_prob = np.zeros(max_new)\n",
    "            a_N = alpha/N\n",
    "            log_prob[0] = -a_N + log_likelyhood(N,D,Z.shape[1],sigma_X,sigma_A,Z)\n",
    "            for new_ks in range(1,max_new):\n",
    "                new_cols = np.zeros((N,new_ks))\n",
    "                new_cols[i,:] = 1\n",
    "                Z_new = np.hstack((Z,new_cols))\n",
    "                log_prob[new_ks] = new_ks*np.log(a_N) - a_N - np.log(math.factorial(new_ks)) + log_likelyhood(N,D,Z_new.shape[1],sigma_X,sigma_A,Z_new)\n",
    "            prob = np.exp(log_prob - max(log_prob))\n",
    "            prob = prob/sum(prob)\n",
    "            #re adjust Z\n",
    "            #first remove columns with only one object having the feature \n",
    "            col_k_count = np.sum(Z,axis = 0) - Z[i,:]\n",
    "            Z = Z[:,col_k_count != 0]\n",
    "            #Sample probabilites and add columns accordingly\n",
    "            new_cols_add = list(np.random.multinomial(1,prob) == 1).index(1)\n",
    "            if new_cols_add > 0:\n",
    "                newcols = np.zeros((N,new_cols_add))\n",
    "                newcols[i,:] = 1\n",
    "                Z = np.hstack((Z,newcols))\n",
    "            K = Z.shape[1]\n",
    "        \n",
    "        #Part2\n",
    "        current_likelyhood = log_likelyhood(N,D,K,sigma_X,sigma_A,Z) \n",
    "        \n",
    "        #Sigma_X\n",
    "        sigma_X_new = sigma_X + np.random.uniform(-epsilon,epsilon)\n",
    "        new_likelyhood = log_likelyhood(N,D,K,sigma_X_new,sigma_A,Z)\n",
    "        if np.exp(min(0,new_likelyhood - current_likelyhood)) > np.random.random():\n",
    "            sigma_X = sigma_X_new\n",
    "            \n",
    "        #Sigma_A\n",
    "        sigma_A_new = sigma_A + np.random.uniform(-epsilon,epsilon)\n",
    "        new_log_likelyhood = log_likelyhood(N,D,K,sigma_X,sigma_A_new,Z)\n",
    "        if np.exp(min(0,new_likelyhood - current_likelyhood)) > np.random.random():\n",
    "            sigma_A = sigma_A_new\n",
    "         \n",
    "        #Alpha\n",
    "        alpha = np.random.gamma(alpha_a_prior + K,1/(1 + HN))\n",
    "        \n",
    "        K_values[runs] = K\n",
    "        alpha_values[runs] = alpha\n",
    "        Sigma_X_values[runs] = sigma_X\n",
    "        Sigma_A_values[runs] = sigma_A\n",
    "        print(runs,K,alpha,sigma_X,sigma_A)\n",
    "    return(K_values,alpha_values,Sigma_X_values,Sigma_A_values)"
   ]
  },
  {
   "cell_type": "code",
   "execution_count": 64,
   "metadata": {},
   "outputs": [],
   "source": [
    "np.random.seed(1)\n",
    "basis1 = np.array([[0,0,0,0,0,0],[0,0,0,0,0,0],[0,0,0,0,0,0],[0,1,0,0,0,0],[1,1,1,0,0,0],[0,1,0,0,0,0]])\n",
    "basis2 = np.array([[1,1,1,0,0,0],[1,0,1,0,0,0],[1,1,1,0,0,0],[0,0,0,0,0,0],[0,0,0,0,0,0],[0,0,0,0,0,0]])\n",
    "basis3 = np.array([[0,0,0,0,0,0],[0,0,0,0,0,0],[0,0,0,0,0,0],[0,0,0,0,0,1],[0,0,0,0,1,1],[0,0,0,1,1,1]])\n",
    "basis4 = np.array([[0,0,0,1,0,0],[0,0,0,1,1,1],[0,0,0,1,0,0],[0,0,0,0,0,0],[0,0,0,0,0,0],[0,0,0,0,0,0]])\n",
    "N = 100\n",
    "D = 36\n",
    "b1 = basis1.reshape(D)\n",
    "b2 = basis2.reshape(D)\n",
    "b3 = basis3.reshape(D)\n",
    "b4 = basis4.reshape(D)\n",
    "A = np.array([b1,b2,b3,b4])\n",
    "\n",
    "Z_orig = np.zeros((N,4))\n",
    "sigmaX_orig = 0.5\n",
    "X = np.zeros((N,D))\n",
    "\n",
    "for i in range(N):\n",
    "    Z_orig[i,:] = stats.uniform.rvs(loc=0,scale=1,size=4) > 0.5\n",
    "    while np.sum(Z_orig[i,:]) == 0:\n",
    "        Z_orig[i,:] = stats.uniform.rvs(loc=0,scale=1,size=4) > 0.5\n",
    "    X[i,:] = np.random.normal(size=D)*sigmaX_orig + np.dot(Z_orig[i,:],A)"
   ]
  }
 ],
 "metadata": {
  "kernelspec": {
   "display_name": "Python 3",
   "language": "python",
   "name": "python3"
  },
  "language_info": {
   "codemirror_mode": {
    "name": "ipython",
    "version": 3
   },
   "file_extension": ".py",
   "mimetype": "text/x-python",
   "name": "python",
   "nbconvert_exporter": "python",
   "pygments_lexer": "ipython3",
   "version": "3.6.10"
  }
 },
 "nbformat": 4,
 "nbformat_minor": 2
}
